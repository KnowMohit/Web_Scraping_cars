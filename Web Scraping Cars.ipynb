{
 "cells": [
  {
   "cell_type": "code",
   "execution_count": null,
   "id": "3636b8a8-214a-43a0-855a-c3bb4f5d9894",
   "metadata": {},
   "outputs": [],
   "source": [
    "Web Scraping Cars"
   ]
  },
  {
   "cell_type": "code",
   "execution_count": 1,
   "id": "ffc5e7f6-d573-4c04-998a-b24d6bba9729",
   "metadata": {},
   "outputs": [],
   "source": [
    "import requests\n",
    "from bs4 import BeautifulSoup\n",
    "import pandas as pd"
   ]
  },
  {
   "cell_type": "code",
   "execution_count": 2,
   "id": "1ec3126e-379b-4407-9178-fca0606b187c",
   "metadata": {},
   "outputs": [],
   "source": [
    "url = \"https://companiesmarketcap.com/inr/automakers/largest-automakers-by-revenue/\""
   ]
  },
  {
   "cell_type": "code",
   "execution_count": 3,
   "id": "ca6b4f6e-94d4-4b69-af37-0c1eb710ca87",
   "metadata": {},
   "outputs": [],
   "source": [
    "response = requests.get(url)\n",
    "response.raise_for_status()"
   ]
  },
  {
   "cell_type": "code",
   "execution_count": 4,
   "id": "8ed11025-bdf5-4a92-903c-31c6ebd7fe2a",
   "metadata": {},
   "outputs": [],
   "source": [
    "soup = BeautifulSoup(response.text, 'html.parser')"
   ]
  },
  {
   "cell_type": "code",
   "execution_count": 7,
   "id": "b1423aa2-aef5-46d8-90d1-314ab76b4a9d",
   "metadata": {},
   "outputs": [],
   "source": [
    "table = soup.find('table')"
   ]
  },
  {
   "cell_type": "code",
   "execution_count": 8,
   "id": "d1d302f3-a58d-40e4-903e-230110f43af1",
   "metadata": {},
   "outputs": [],
   "source": [
    "headers = []\n",
    "for th in table.find_all('th'):\n",
    "    headers.append(th.text.strip())"
   ]
  },
  {
   "cell_type": "code",
   "execution_count": 11,
   "id": "378ca95d-f4bf-406d-add5-87feb7bd0c36",
   "metadata": {},
   "outputs": [],
   "source": [
    "rows = []\n",
    "for tr in table.find_all('tr')[1:]:\n",
    "    cells = tr.find_all(['td', 'th'])\n",
    "    if len(cells) > 0:\n",
    "        row = [cell.text.strip() for cell in cells]\n",
    "        rows.append(row)"
   ]
  },
  {
   "cell_type": "code",
   "execution_count": 12,
   "id": "3b55e49f-4312-4849-8e56-a6778c155715",
   "metadata": {},
   "outputs": [],
   "source": [
    "df = pd.DataFrame(rows, columns=headers)"
   ]
  },
  {
   "cell_type": "code",
   "execution_count": 13,
   "id": "99d78195-57e6-4a41-9e3f-49bc5b836fcb",
   "metadata": {},
   "outputs": [],
   "source": [
    "df.to_csv(r'C:\\Users\\HP\\Desktop\\cars.csv', index=False)"
   ]
  },
  {
   "cell_type": "code",
   "execution_count": 14,
   "id": "10a94849-b98b-40b2-b671-bb80cf4a9b27",
   "metadata": {},
   "outputs": [
    {
     "name": "stdout",
     "output_type": "stream",
     "text": [
      "✅ Table scraped and saved as 'country_population.csv'\n"
     ]
    }
   ],
   "source": [
    "print(\"✅ Table scraped and saved as 'country_population.csv'\")"
   ]
  },
  {
   "cell_type": "code",
   "execution_count": null,
   "id": "34b43c15-ff3b-4773-b56b-fd3477ba3dd9",
   "metadata": {},
   "outputs": [],
   "source": []
  }
 ],
 "metadata": {
  "kernelspec": {
   "display_name": "Python [conda env:base] *",
   "language": "python",
   "name": "conda-base-py"
  },
  "language_info": {
   "codemirror_mode": {
    "name": "ipython",
    "version": 3
   },
   "file_extension": ".py",
   "mimetype": "text/x-python",
   "name": "python",
   "nbconvert_exporter": "python",
   "pygments_lexer": "ipython3",
   "version": "3.12.7"
  }
 },
 "nbformat": 4,
 "nbformat_minor": 5
}
